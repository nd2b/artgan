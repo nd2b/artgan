{
 "cells": [
  {
   "cell_type": "code",
   "execution_count": 1,
   "metadata": {},
   "outputs": [],
   "source": [
    "import pandas as pd\n",
    "import numpy as np\n",
    "import cv2\n",
    "from PIL import Image\n",
    "from matplotlib import pyplot as plt\n",
    "import os\n",
    "import torch\n",
    "from os import listdir\n",
    "from os.path import isfile, join\n",
    "from sklearn import preprocessing\n",
    "import torchvision.transforms as transforms\n",
    "import torchvision.models as models\n",
    "from torch import nn"
   ]
  },
  {
   "cell_type": "code",
   "execution_count": 2,
   "metadata": {
    "scrolled": true
   },
   "outputs": [],
   "source": [
    "#Get link to directory\n",
    "path_to_train_info = os.path.join(os.getenv('DATASETS'), 'ArtRecognision\\\\train_info.csv')\n",
    "path_to_train_set = os.path.join(os.getenv('DATASETS'), 'ArtRecognision\\\\train_2\\\\')"
   ]
  },
  {
   "cell_type": "code",
   "execution_count": 3,
   "metadata": {},
   "outputs": [
    {
     "data": {
      "text/html": [
       "<div>\n",
       "<style scoped>\n",
       "    .dataframe tbody tr th:only-of-type {\n",
       "        vertical-align: middle;\n",
       "    }\n",
       "\n",
       "    .dataframe tbody tr th {\n",
       "        vertical-align: top;\n",
       "    }\n",
       "\n",
       "    .dataframe thead th {\n",
       "        text-align: right;\n",
       "    }\n",
       "</style>\n",
       "<table border=\"1\" class=\"dataframe\">\n",
       "  <thead>\n",
       "    <tr style=\"text-align: right;\">\n",
       "      <th></th>\n",
       "      <th>filename</th>\n",
       "      <th>artist</th>\n",
       "      <th>title</th>\n",
       "      <th>style</th>\n",
       "      <th>genre</th>\n",
       "      <th>date</th>\n",
       "    </tr>\n",
       "  </thead>\n",
       "  <tbody>\n",
       "    <tr>\n",
       "      <th>0</th>\n",
       "      <td>102257.jpg</td>\n",
       "      <td>5b39c876740bfc1cfaf544721c43cac3</td>\n",
       "      <td>Uriel</td>\n",
       "      <td>Color Field Painting</td>\n",
       "      <td>abstract</td>\n",
       "      <td>1955.0</td>\n",
       "    </tr>\n",
       "    <tr>\n",
       "      <th>1</th>\n",
       "      <td>75232.jpg</td>\n",
       "      <td>5b39c876740bfc1cfaf544721c43cac3</td>\n",
       "      <td>Vir Heroicus Sublimis</td>\n",
       "      <td>Color Field Painting</td>\n",
       "      <td>abstract</td>\n",
       "      <td>1950.0</td>\n",
       "    </tr>\n",
       "    <tr>\n",
       "      <th>2</th>\n",
       "      <td>29855.jpg</td>\n",
       "      <td>96e5bc98488ed589b9bf17ad9fd09371</td>\n",
       "      <td>Night March of a Hundred Demons (left half)</td>\n",
       "      <td>Yamato-e</td>\n",
       "      <td>mythological painting</td>\n",
       "      <td>NaN</td>\n",
       "    </tr>\n",
       "    <tr>\n",
       "      <th>3</th>\n",
       "      <td>62252.jpg</td>\n",
       "      <td>5b39c876740bfc1cfaf544721c43cac3</td>\n",
       "      <td>Who’s Afraid of Red,  Yellow and Blue II</td>\n",
       "      <td>Color Field Painting</td>\n",
       "      <td>abstract</td>\n",
       "      <td>NaN</td>\n",
       "    </tr>\n",
       "    <tr>\n",
       "      <th>4</th>\n",
       "      <td>63861.jpg</td>\n",
       "      <td>5b39c876740bfc1cfaf544721c43cac3</td>\n",
       "      <td>Black Fire I</td>\n",
       "      <td>Color Field Painting</td>\n",
       "      <td>abstract</td>\n",
       "      <td>1963.0</td>\n",
       "    </tr>\n",
       "    <tr>\n",
       "      <th>...</th>\n",
       "      <td>...</td>\n",
       "      <td>...</td>\n",
       "      <td>...</td>\n",
       "      <td>...</td>\n",
       "      <td>...</td>\n",
       "      <td>...</td>\n",
       "    </tr>\n",
       "    <tr>\n",
       "      <th>79428</th>\n",
       "      <td>23862.jpg</td>\n",
       "      <td>67959e4e5df05b3d9db7c97fd9a0b0f6</td>\n",
       "      <td>Number 547</td>\n",
       "      <td>Abstract Expressionism</td>\n",
       "      <td>NaN</td>\n",
       "      <td>1954.0</td>\n",
       "    </tr>\n",
       "    <tr>\n",
       "      <th>79429</th>\n",
       "      <td>25525.jpg</td>\n",
       "      <td>2d72f2000c42051e7c350a39bdce9bc1</td>\n",
       "      <td>Number 13A (Arabesque)</td>\n",
       "      <td>Action painting</td>\n",
       "      <td>abstract</td>\n",
       "      <td>1948.0</td>\n",
       "    </tr>\n",
       "    <tr>\n",
       "      <th>79430</th>\n",
       "      <td>47038.jpg</td>\n",
       "      <td>f920b951670e3d8dc3c759f12ced7a3e</td>\n",
       "      <td>St. Francis of Assisi</td>\n",
       "      <td>Baroque</td>\n",
       "      <td>religious painting</td>\n",
       "      <td>NaN</td>\n",
       "    </tr>\n",
       "    <tr>\n",
       "      <th>79431</th>\n",
       "      <td>9021.jpg</td>\n",
       "      <td>e4183fd3d19c2bca8b7c56d19af92252</td>\n",
       "      <td>Thebe's Revenge</td>\n",
       "      <td>NaN</td>\n",
       "      <td>marina</td>\n",
       "      <td>1982.0</td>\n",
       "    </tr>\n",
       "    <tr>\n",
       "      <th>79432</th>\n",
       "      <td>36564.jpg</td>\n",
       "      <td>0c491bebb405572a8fca52e950a45c20</td>\n",
       "      <td>House Manhufe</td>\n",
       "      <td>Cubism</td>\n",
       "      <td>landscape</td>\n",
       "      <td>1913</td>\n",
       "    </tr>\n",
       "  </tbody>\n",
       "</table>\n",
       "<p>79433 rows × 6 columns</p>\n",
       "</div>"
      ],
      "text/plain": [
       "         filename                            artist  \\\n",
       "0      102257.jpg  5b39c876740bfc1cfaf544721c43cac3   \n",
       "1       75232.jpg  5b39c876740bfc1cfaf544721c43cac3   \n",
       "2       29855.jpg  96e5bc98488ed589b9bf17ad9fd09371   \n",
       "3       62252.jpg  5b39c876740bfc1cfaf544721c43cac3   \n",
       "4       63861.jpg  5b39c876740bfc1cfaf544721c43cac3   \n",
       "...           ...                               ...   \n",
       "79428   23862.jpg  67959e4e5df05b3d9db7c97fd9a0b0f6   \n",
       "79429   25525.jpg  2d72f2000c42051e7c350a39bdce9bc1   \n",
       "79430   47038.jpg  f920b951670e3d8dc3c759f12ced7a3e   \n",
       "79431    9021.jpg  e4183fd3d19c2bca8b7c56d19af92252   \n",
       "79432   36564.jpg  0c491bebb405572a8fca52e950a45c20   \n",
       "\n",
       "                                             title                   style  \\\n",
       "0                                            Uriel    Color Field Painting   \n",
       "1                            Vir Heroicus Sublimis    Color Field Painting   \n",
       "2      Night March of a Hundred Demons (left half)                Yamato-e   \n",
       "3         Who’s Afraid of Red,  Yellow and Blue II    Color Field Painting   \n",
       "4                                    Black Fire I     Color Field Painting   \n",
       "...                                            ...                     ...   \n",
       "79428                                   Number 547  Abstract Expressionism   \n",
       "79429                       Number 13A (Arabesque)         Action painting   \n",
       "79430                        St. Francis of Assisi                 Baroque   \n",
       "79431                              Thebe's Revenge                     NaN   \n",
       "79432                               House Manhufe                   Cubism   \n",
       "\n",
       "                       genre    date  \n",
       "0                   abstract  1955.0  \n",
       "1                   abstract  1950.0  \n",
       "2      mythological painting     NaN  \n",
       "3                   abstract     NaN  \n",
       "4                   abstract  1963.0  \n",
       "...                      ...     ...  \n",
       "79428                    NaN  1954.0  \n",
       "79429               abstract  1948.0  \n",
       "79430     religious painting     NaN  \n",
       "79431                 marina  1982.0  \n",
       "79432              landscape    1913  \n",
       "\n",
       "[79433 rows x 6 columns]"
      ]
     },
     "execution_count": 3,
     "metadata": {},
     "output_type": "execute_result"
    }
   ],
   "source": [
    "#Load datasets\n",
    "train_set = pd.read_csv(path_to_train_info)\n",
    "train_set"
   ]
  },
  {
   "cell_type": "code",
   "execution_count": 4,
   "metadata": {},
   "outputs": [],
   "source": [
    "#Get list of images\n",
    "onlyfiles = [f for f in listdir(path_to_train_set) if isfile(join(path_to_train_set, f))]"
   ]
  },
  {
   "cell_type": "code",
   "execution_count": 7,
   "metadata": {},
   "outputs": [],
   "source": [
    "#Leave data only for the downloaded images\n",
    "filtered_train_set = train_set[train_set.filename.isin(onlyfiles)]\n",
    "final_train_dataset = filtered_train_set[['filename', 'style', 'genre']].dropna()"
   ]
  },
  {
   "cell_type": "code",
   "execution_count": 5,
   "metadata": {},
   "outputs": [],
   "source": [
    "#image trasformation for resnet\n",
    "transform = transforms.Compose([transforms.Resize([224, 224]), \n",
    "                                transforms.RandomHorizontalFlip(), \n",
    "                                transforms.ToTensor(), \n",
    "                                transforms.Normalize(mean=[0.485, 0.456, 0.406], std=[0.229, 0.224, 0.225])])"
   ]
  },
  {
   "cell_type": "code",
   "execution_count": 43,
   "metadata": {},
   "outputs": [],
   "source": [
    "#fuction to crop images with square\n",
    "def crop_image(image, crop_size):\n",
    "    width, height = image.size\n",
    "    cropped_img = image.crop(((width-crop_size)//2, (height-crop_size)//2, (width+crop_size)//2, (height+crop_size)//2))\n",
    "    return cropped_img"
   ]
  },
  {
   "cell_type": "code",
   "execution_count": 44,
   "metadata": {},
   "outputs": [],
   "source": [
    "#image pre-processing\n",
    "crop_size=800\n",
    "\n",
    "train_image=[]\n",
    "for name in final_train_dataset['filename']:\n",
    "    try:\n",
    "        img=Image.open(path_to_train_set + name)\n",
    "        c_image = crop_image(img, crop_size)\n",
    "        t_image = transform(c_image)\n",
    "        train_image.append(t_image)\n",
    "    except:\n",
    "        continue"
   ]
  },
  {
   "cell_type": "code",
   "execution_count": 45,
   "metadata": {},
   "outputs": [
    {
     "data": {
      "text/plain": [
       "torch.Size([3, 224, 224])"
      ]
     },
     "execution_count": 45,
     "metadata": {},
     "output_type": "execute_result"
    }
   ],
   "source": [
    "train_image[0].shape"
   ]
  },
  {
   "cell_type": "code",
   "execution_count": 46,
   "metadata": {},
   "outputs": [
    {
     "ename": "RuntimeError",
     "evalue": "[enforce fail at ..\\c10\\core\\CPUAllocator.cpp:72] data. DefaultCPUAllocator: not enough memory: you tried to allocate 4960800768 bytes. Buy new RAM!\n",
     "output_type": "error",
     "traceback": [
      "\u001b[1;31m---------------------------------------------------------------------------\u001b[0m",
      "\u001b[1;31mRuntimeError\u001b[0m                              Traceback (most recent call last)",
      "\u001b[1;32m<ipython-input-46-96403993d894>\u001b[0m in \u001b[0;36m<module>\u001b[1;34m\u001b[0m\n\u001b[1;32m----> 1\u001b[1;33m \u001b[0mtrain_tensor\u001b[0m \u001b[1;33m=\u001b[0m \u001b[0mtorch\u001b[0m\u001b[1;33m.\u001b[0m\u001b[0mstack\u001b[0m\u001b[1;33m(\u001b[0m\u001b[0mtrain_image\u001b[0m\u001b[1;33m)\u001b[0m\u001b[1;33m\u001b[0m\u001b[1;33m\u001b[0m\u001b[0m\n\u001b[0m",
      "\u001b[1;31mRuntimeError\u001b[0m: [enforce fail at ..\\c10\\core\\CPUAllocator.cpp:72] data. DefaultCPUAllocator: not enough memory: you tried to allocate 4960800768 bytes. Buy new RAM!\n"
     ]
    }
   ],
   "source": [
    "train_tensor = torch.stack(train_image)"
   ]
  },
  {
   "cell_type": "code",
   "execution_count": 47,
   "metadata": {},
   "outputs": [],
   "source": [
    "discriminator = models.resnet18(pretrained=True)"
   ]
  },
  {
   "cell_type": "code",
   "execution_count": null,
   "metadata": {},
   "outputs": [],
   "source": [
    "from torch import * # импорт всего не одобряется в python, лучше было import nn\n",
    "discriminator.fc = nn.Sequential(nn.Linear(1000, 512),\n",
    "                                 nn.Tanh(),\n",
    "                                 nn.Dropout(0.2),\n",
    "                                 nn.Linear(512, 1),\n",
    "                                 nn.LogSoftmax(dim=1))\n",
    "# почему LogSoftmax? там же далее используется binary cross entropy\n",
    "# предлагаю убрать на последнем слое активацию вовсе, а в качестве лосса использовать\n",
    "# binary_cross_entropy_with_logits"
   ]
  },
  {
   "cell_type": "code",
   "execution_count": null,
   "metadata": {},
   "outputs": [],
   "source": [
    "class Generator(nn.Module):\n",
    "    def __init__(self):\n",
    "        super(Generator, self).__init__()\n",
    "\n",
    "        # классно оформлено\n",
    "        def block(in_feat, out_feat, normalize=True):\n",
    "            layers = [nn.Linear(in_feat, out_feat)]\n",
    "            if normalize:\n",
    "                layers.append(nn.BatchNorm1d(out_feat, 0.8))\n",
    "            layers.append(nn.LeakyReLU(0.2, inplace=True))\n",
    "            return layers\n",
    "\n",
    "        # модель в несколько раз слабее дискриминатора - баланс не сойдётся\n",
    "        # linear блоки в порождении картинок работают не очень, нужны ConvTranspose2d\n",
    "        # \"свёртки наоборот\"\n",
    "        self.model = nn.Sequential(\n",
    "            *block(opt.latent_dim, 128, normalize=False),\n",
    "            *block(128, 256),\n",
    "            *block(256, 512),\n",
    "            *block(512, 1024),\n",
    "            nn.Linear(1024, int(np.prod(img_shape))), # откуда здесь взялась переменная img_shape?\n",
    "            nn.Tanh()\n",
    "        )\n",
    "\n",
    "    def forward(self, z):\n",
    "        img = self.model(z)\n",
    "        img = img.view(img.size(0), *img_shape) # откуда здесь взялась переменная img_shape? х2\n",
    "        return img"
   ]
  },
  {
   "cell_type": "code",
   "execution_count": null,
   "metadata": {},
   "outputs": [],
   "source": [
    "device = torch.device(\"cuda:0\" if use_gpu and torch.cuda.is_available() else \"cpu\")\n",
    "generator = Generator().to(device)\n",
    "discriminator = discriminator.to(device)"
   ]
  },
  {
   "cell_type": "code",
   "execution_count": null,
   "metadata": {},
   "outputs": [],
   "source": [
    "#criterion = nn.CrossEntropyLoss()"
   ]
  },
  {
   "cell_type": "code",
   "execution_count": null,
   "metadata": {},
   "outputs": [],
   "source": [
    "# зачем устанавливать betas, eps и weight decay, которые уже установлены теми же значениями по умолчанию?\n",
    "d_optimizer = torch.optim.Adam(discriminator.parameters(), lr=0.002, betas=(0.9, 0.999), eps=0.1, weight_decay=0, amsgrad=False)\n",
    "# здесь передал оптимизатору генератора параметры дискриминатора\n",
    "g_optimizer = torch.optim.Adam(discriminator.parameters(), lr=0.002, betas=(0.9, 0.999), eps=0.1, weight_decay=0, amsgrad=False)"
   ]
  },
  {
   "cell_type": "code",
   "execution_count": null,
   "metadata": {},
   "outputs": [],
   "source": [
    "import torch.utils.data\n",
    "# train dataloader делают с shuffle = True, чтобы добится большей стохастичности\n",
    "# чуть больше случайности в выборе сэмплов в батч позволяет чуть проще проскакивать седловые точки\n",
    "# функции потерь\n",
    "train_dataloader = torch.utils.data.DataLoader(train_tensor, batch_size=250, shuffle=False)"
   ]
  },
  {
   "cell_type": "code",
   "execution_count": null,
   "metadata": {},
   "outputs": [],
   "source": [
    "num_epochs = 500\n",
    "generator.train()\n",
    "discriminator.train()\n",
    "\n",
    "for epoch in range(num_epochs):\n",
    "    gen_loss_avg.append(0)\n",
    "    disc_loss_avg.append(0)\n",
    "    num_batches = 0\n",
    "    \n",
    "    for image_batch, _ in train_dataloader:\n",
    "        \n",
    "        # get dataset image and create real and fake labels for use in the loss\n",
    "        image_batch = image_batch.to(device)\n",
    "        label_real = torch.ones(image_batch.size(0), device=device)\n",
    "        label_fake = torch.zeros(image_batch.size(0), device=device)\n",
    "\n",
    "        # generate a batch of images from samples of the latent prior\n",
    "        latent = torch.randn(image_batch.size(0), 100, 1, 1, device=device)\n",
    "        fake_image_batch = generator(latent)\n",
    "        \n",
    "        # train discriminator to correctly classify real and fake\n",
    "        # (detach the computation graph of the generator and the discriminator,\n",
    "        # so that gradients are not backpropagated into the generator)\n",
    "        real_pred = discriminator(image_batch).squeeze()\n",
    "        fake_pred = discriminator(fake_image_batch.detach()).squeeze()\n",
    "        disc_loss = 0.5 * (\n",
    "            F.binary_cross_entropy(real_pred, label_real) +\n",
    "            F.binary_cross_entropy(fake_pred, label_fake))\n",
    "        \n",
    "        disc_optimizer.zero_grad()\n",
    "        disc_loss.backward()\n",
    "        disc_optimizer.step()\n",
    "        \n",
    "        # train generator to output an image that is classified as real\n",
    "        fake_pred = discriminator(fake_image_batch).squeeze()\n",
    "        gen_loss = F.binary_cross_entropy(fake_pred, label_real)\n",
    "        \n",
    "        gen_optimizer.zero_grad()\n",
    "        gen_loss.backward()\n",
    "        gen_optimizer.step()\n",
    "        \n",
    "        gen_loss_avg[-1] += gen_loss.item()\n",
    "        disc_loss_avg[-1] += disc_loss.item()\n",
    "        num_batches += 1\n",
    "        \n",
    "    gen_loss_avg[-1] /= num_batches\n",
    "    disc_loss_avg[-1] /= num_batches\n",
    "    print('Epoch [%d / %d] average loss generator vs. discrim.: %f vs. %f' %\n",
    "          (epoch+1, num_epochs, gen_loss_avg[-1], disc_loss_avg[-1]))"
   ]
  }
 ],
 "metadata": {
  "kernelspec": {
   "display_name": "Python 3",
   "language": "python",
   "name": "python3"
  },
  "language_info": {
   "codemirror_mode": {
    "name": "ipython",
    "version": 3
   },
   "file_extension": ".py",
   "mimetype": "text/x-python",
   "name": "python",
   "nbconvert_exporter": "python",
   "pygments_lexer": "ipython3",
   "version": "3.7.7"
  }
 },
 "nbformat": 4,
 "nbformat_minor": 2
}
